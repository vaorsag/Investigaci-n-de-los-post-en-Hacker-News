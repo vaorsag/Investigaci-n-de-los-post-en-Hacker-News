{
 "cells": [
  {
   "cell_type": "markdown",
   "metadata": {
    "collapsed": true
   },
   "source": [
    "# Hacker News:  Data Análisis.\n",
    "[Hacker news](https://news.ycombinator.com) es un sitio de noticias tecnológicas extremadamente popular entre los circulos de los startup y filio-tecnólogos. Los usuarios postean publicaciones de noticias relacionadas, y mediante el sistema de votos, se destacan estas dentro de la página principal. Dentro de la página están los post clasificados como [Ask HN](https://news.ycombinator.com/ask), que son las preguntas realizadas a la comunidad de Hacker News y los post llamados [Show HN](https://news.ycombinator.com/show) dedicado a mostrar los proyectos, productos, etc, que realiza la comunidad.  \n",
    "\n",
    "El objetivo de este proyecto es comparar los tipos de post anteriores y ser capaces de responder las siguientes preguntas:\n",
    "\n",
    "* ¿Qué tipo de post, en promedio, recibe más comentarios?\n",
    "* ¿ Existe una relación entre la hora en que se publica un post, y el número de comentarios que este recibe?\n",
    "\n",
    "\n",
    "## Los datos\n",
    "\n",
    "El set de datos se componen de los link a noticias más populares, el puntaje que obtiene cada posteo y el numero de comentarios que recibe cada uno. \n",
    "\n",
    "Es posible obtener el set de datos en el siguiente [enlace](https://www.kaggle.com/hacker-news/hacker-news-posts) y para este trabajo se extrajo una muestra de 20.000 filas de un total de 300.000.Una descripción de cada encabezado lo puedes encontrar en el mismo enlace anterior.\n",
    "\n",
    "Se comienza abriendo el set de datos desde el archivo hacker_news.csv  y guardandolo en una lista de lista llamado hn. \n"
   ]
  },
  {
   "cell_type": "code",
   "execution_count": 15,
   "metadata": {},
   "outputs": [
    {
     "name": "stdout",
     "output_type": "stream",
     "text": [
      "[['id', 'title', 'url', 'num_points', 'num_comments', 'author', 'created_at'], ['12224879', 'Interactive Dynamic Video', 'http://www.interactivedynamicvideo.com/', '386', '52', 'ne0phyte', '8/4/2016 11:52'], ['10975351', 'How to Use Open Source and Shut the Fuck Up at the Same Time', 'http://hueniverse.com/2016/01/26/how-to-use-open-source-and-shut-the-fuck-up-at-the-same-time/', '39', '10', 'josep2', '1/26/2016 19:30'], ['11964716', \"Florida DJs May Face Felony for April Fools' Water Joke\", 'http://www.thewire.com/entertainment/2013/04/florida-djs-april-fools-water-joke/63798/', '2', '1', 'vezycash', '6/23/2016 22:20'], ['11919867', 'Technology ventures: From Idea to Enterprise', 'https://www.amazon.com/Technology-Ventures-Enterprise-Thomas-Byers/dp/0073523429', '3', '1', 'hswarna', '6/17/2016 0:01'], ['10301696', 'Note by Note: The Making of Steinway L1037 (2007)', 'http://www.nytimes.com/2007/11/07/movies/07stein.html?_r=0', '8', '2', 'walterbell', '9/30/2015 4:12']]\n"
     ]
    }
   ],
   "source": [
    "opened_file = open('hacker_news.csv')\n",
    "from csv import reader\n",
    "hn = list(reader(opened_file))\n",
    "print(hn[0:6])"
   ]
  },
  {
   "cell_type": "markdown",
   "metadata": {},
   "source": [
    "Extraemos el encabezado a una variable llamada headers, removiendo esta linea del set de datos."
   ]
  },
  {
   "cell_type": "code",
   "execution_count": 19,
   "metadata": {},
   "outputs": [
    {
     "name": "stdout",
     "output_type": "stream",
     "text": [
      "['10975351', 'How to Use Open Source and Shut the Fuck Up at the Same Time', 'http://hueniverse.com/2016/01/26/how-to-use-open-source-and-shut-the-fuck-up-at-the-same-time/', '39', '10', 'josep2', '1/26/2016 19:30']\n",
      "\n",
      "\n",
      "[['11964716', \"Florida DJs May Face Felony for April Fools' Water Joke\", 'http://www.thewire.com/entertainment/2013/04/florida-djs-april-fools-water-joke/63798/', '2', '1', 'vezycash', '6/23/2016 22:20'], ['11919867', 'Technology ventures: From Idea to Enterprise', 'https://www.amazon.com/Technology-Ventures-Enterprise-Thomas-Byers/dp/0073523429', '3', '1', 'hswarna', '6/17/2016 0:01'], ['10301696', 'Note by Note: The Making of Steinway L1037 (2007)', 'http://www.nytimes.com/2007/11/07/movies/07stein.html?_r=0', '8', '2', 'walterbell', '9/30/2015 4:12'], ['10482257', 'Title II kills investment? Comcast and other ISPs are now spending more', 'http://arstechnica.com/business/2015/10/comcast-and-other-isps-boost-network-investment-despite-net-neutrality/', '53', '22', 'Deinos', '10/31/2015 9:48'], ['10557283', 'Nuts and Bolts Business Advice', '', '3', '4', 'shomberj', '11/13/2015 0:45'], ['12296411', 'Ask HN: How to improve my personal website?', '', '2', '6', 'ahmedbaracat', '8/16/2016 9:55']]\n"
     ]
    }
   ],
   "source": [
    "header = hn[0]\n",
    "hn = hn[1:]\n",
    "print(header)\n",
    "print('\\n')\n",
    "print(hn[0:6])"
   ]
  },
  {
   "cell_type": "markdown",
   "metadata": {},
   "source": [
    "Como se indico anteriormente, se esta interesado solamente en los post cuyos títulos comiencen con Ask HN o Show HN (en la columna title), por ello se crea una nueva lista de lista conteniendo solamente estos datos.  "
   ]
  },
  {
   "cell_type": "code",
   "execution_count": 32,
   "metadata": {},
   "outputs": [
    {
     "name": "stdout",
     "output_type": "stream",
     "text": [
      "Total de 'Ask HN'  posts: 1744\n",
      "Total de 'Show HN' posts: 1162\n",
      "Total de 'others'  posts: 17192\n"
     ]
    }
   ],
   "source": [
    "ask_posts = []\n",
    "show_posts = []\n",
    "other_posts = []\n",
    "\n",
    "for row in hn:\n",
    "    title = row[1]\n",
    "    title_lw = title.lower() #convertimos todo a minúsculas para no tener problemas\n",
    "    if title_lw.startswith('ask hn'):\n",
    "        ask_posts.append(row)\n",
    "    elif title_lw.startswith('show hn'):\n",
    "        show_posts.append(row)\n",
    "    else:\n",
    "        other_posts.append(row)\n",
    "\n",
    "print(\"Total de 'Ask HN'  posts:\",len(ask_posts))\n",
    "print(\"Total de 'Show HN' posts:\",len(show_posts))\n",
    "print(\"Total de 'others'  posts:\",len(other_posts))\n",
    "        \n",
    "        "
   ]
  },
  {
   "cell_type": "markdown",
   "metadata": {},
   "source": [
    "Ahora averiguaremos cual de los post en promedio recibe mas comentarios."
   ]
  },
  {
   "cell_type": "code",
   "execution_count": 37,
   "metadata": {},
   "outputs": [
    {
     "name": "stdout",
     "output_type": "stream",
     "text": [
      "Promedio de comentarios en Ask HN: 14.038417431192661\n",
      "Promedio de comentarios en Show HN: 10.31669535283993\n"
     ]
    }
   ],
   "source": [
    "total_ask_comments = 0\n",
    "for row in ask_posts:\n",
    "    num_comments = int(row[4])\n",
    "    total_ask_comments += num_comments\n",
    "    \n",
    "avg_ask_comments = total_ask_comments / len(ask_posts)\n",
    "print(\"Promedio de comentarios en Ask HN:\", avg_ask_comments)\n",
    "\n",
    "\n",
    "total_show_comments = 0\n",
    "for row in show_posts:\n",
    "    num_comments = int(row[4])\n",
    "    total_show_comments += num_comments\n",
    "    \n",
    "avg_show_comments = total_show_comments / len(show_posts)\n",
    "print(\"Promedio de comentarios en Show HN:\", avg_show_comments)"
   ]
  },
  {
   "cell_type": "markdown",
   "metadata": {},
   "source": [
    "* Primer Hallazgo : En promedio los posts realizados en Ask HN reciben 4 comentarios más que en Show HN. Debido que este tipo de posts tiende a recibir mayor numero de comentarios, el posterior análisis se realizara únicamente sobre ellos.\n",
    "\n",
    " Como se indico al comienzo, nuestro segundo objetivo es determinar si a una determinada hora se producen mayor número de comentarios. Esto último puede resultar de importancia comercial. \n",
    " \n",
    " A continuación se calculara la cantidad de posts creados por cada hora del día junto con el número de comentarios recibidos en esa hora. \n",
    " \n",
    " Recordemos que la última columna nos entrega la fecha y ahora en el cual el post fue creado, con el formato siguiente: created_at (M/D/Y H:M), ejemplo de contenido en result_list: \n",
    " \n",
    " [['8/16/2016 9:55', 2], ['11/22/2015 13:43', 28], ['5/2/2016 10:14', 1], ['8/2/2016 14:20', 1]]"
   ]
  },
  {
   "cell_type": "code",
   "execution_count": 57,
   "metadata": {},
   "outputs": [],
   "source": [
    "import datetime as dt  # se utiliza el modulo datetime para hacer parse\n",
    "result_list = []       # para formar una lista de lista \n",
    "\n",
    "for row in ask_posts:\n",
    "    created_at = row[6]\n",
    "    num_comments = int(row[3])\n",
    "    result_list.append([created_at, num_comments])\n",
    "\n",
    "counts_by_hour = {}  #cuantas veces se repite una hora\n",
    "comments_by_hour = {} # en una hora en particular cuantos comentarios hubieron\n",
    "\n",
    "for row in result_list:  # se hace parse de la la fecha y hora en que se hizo el comentario\n",
    "    string_date = row[0]\n",
    "    ob_created_at = dt.datetime.strptime(string_date,\"%m/%d/%Y %H:%M\")  \n",
    "    hour_string = dt.datetime.strftime(ob_created_at,\"%H:%M\" )\n",
    "    \n",
    "    if hour_string not in counts_by_hour:\n",
    "        counts_by_hour[hour_string] = 1\n",
    "        comments_by_hour[hour_string] = row[1]\n",
    "        \n",
    "    elif hour_string in counts_by_hour:\n",
    "        counts_by_hour[hour_string] += 1\n",
    "        comments_by_hour[hour_string] += row[1]"
   ]
  },
  {
   "cell_type": "markdown",
   "metadata": {},
   "source": [
    "Ahora con los diccionarios realizados, se calculara el promedio de comentarios hechos a cada post segun una determinada hora"
   ]
  },
  {
   "cell_type": "code",
   "execution_count": 77,
   "metadata": {},
   "outputs": [],
   "source": [
    "avg_by_hour = []\n",
    "for key in counts_by_hour:\n",
    "    num_comments = int(comments_by_hour[key])\n",
    "    num_counts = int(counts_by_hour[key])\n",
    "    avg_by_hour.append([key, num_comments / num_counts])"
   ]
  },
  {
   "cell_type": "markdown",
   "metadata": {},
   "source": [
    "Ahora de la lista de lista final avg_by_hour, se mostrara las cinco primeras filas con mayores valores:\n",
    "\n",
    "[[607.5, '16:43'], [450.0, '13:04'],..]"
   ]
  },
  {
   "cell_type": "code",
   "execution_count": 86,
   "metadata": {},
   "outputs": [
    {
     "name": "stdout",
     "output_type": "stream",
     "text": [
      "Top 5 Hours for Ask Posts Comments\n",
      "A la hora 16:43 tiene 607.5 comentarios por post\n",
      "A la hora 13:04 tiene 450.0 comentarios por post\n",
      "A la hora 11:52 tiene 442.0 comentarios por post\n",
      "A la hora 17:02 tiene 401.0 comentarios por post\n",
      "A la hora 10:25 tiene 295.0 comentarios por post\n",
      "A la hora 17:18 tiene 259.5 comentarios por post\n"
     ]
    }
   ],
   "source": [
    "swap_avg_by_hour = []\n",
    "for row in avg_by_hour:\n",
    "    swap_avg_by_hour.append([row[1], row[0]]) # se hace swap para poder utilizar sorted()\n",
    "\n",
    "sorted_swap = sorted(swap_avg_by_hour, reverse=True)\n",
    "\n",
    "print(\"Top 5 Hours for Ask Posts Comments\")\n",
    "for row in sorted_swap[:6]:\n",
    "    ob_hora = dt.datetime.strptime(row[1],\"%H:%M\")\n",
    "    string_hora = dt.datetime.strftime(ob_hora,\"%H:%M\")\n",
    "    print(\"A la hora {} tiene {} comentarios por post\".format(string_hora,row[0]))"
   ]
  },
  {
   "cell_type": "markdown",
   "metadata": {},
   "source": [
    "## Conclusiones\n",
    "Hacker News es uno de los sitios más populares entre los círculos de start-up y amantes de la tecnología. Por ello es importante saber publicar tus artículos relacionados a fin de tener el mayor impacto y divulgación posible.\n",
    "\n",
    "En este proyecto se han encontrado dos mayores conclusiones a saber:\n",
    "\n",
    "1.- Conviene realizar tus publicaciones con la etiqueta de Ask Posts, puesto que reciben mayor numero de comentarios.\n",
    "2.- La mejor hora para publicar es aproximadamente a las 16:43 horas, seguido de las horas de almuerzo 13:00 o 11:50.\n",
    "\n",
    "Siguiendo estas dos simples reglas, te aseguras que el esfuerzo de tu publicación no sea invisible, o que almeno reciba una justa atención."
   ]
  }
 ],
 "metadata": {
  "kernelspec": {
   "display_name": "Python 3",
   "language": "python",
   "name": "python3"
  },
  "language_info": {
   "codemirror_mode": {
    "name": "ipython",
    "version": 3
   },
   "file_extension": ".py",
   "mimetype": "text/x-python",
   "name": "python",
   "nbconvert_exporter": "python",
   "pygments_lexer": "ipython3",
   "version": "3.7.1"
  }
 },
 "nbformat": 4,
 "nbformat_minor": 2
}
